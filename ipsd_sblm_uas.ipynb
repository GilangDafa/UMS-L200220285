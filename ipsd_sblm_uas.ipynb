{
 "cells": [
  {
   "cell_type": "code",
   "execution_count": 1,
   "id": "f05551c3-e3fb-4821-a006-4c955e0e17d7",
   "metadata": {},
   "outputs": [
    {
     "name": "stdout",
     "output_type": "stream",
     "text": [
      "Requirement already satisfied: pandas in c:\\users\\asus\\appdata\\local\\programs\\python\\python310\\lib\\site-packages (2.2.3)Note: you may need to restart the kernel to use updated packages.\n",
      "\n",
      "Requirement already satisfied: numpy>=1.22.4 in c:\\users\\asus\\appdata\\local\\programs\\python\\python310\\lib\\site-packages (from pandas) (2.1.2)\n",
      "Requirement already satisfied: pytz>=2020.1 in c:\\users\\asus\\appdata\\local\\programs\\python\\python310\\lib\\site-packages (from pandas) (2024.2)\n",
      "Requirement already satisfied: tzdata>=2022.7 in c:\\users\\asus\\appdata\\local\\programs\\python\\python310\\lib\\site-packages (from pandas) (2024.1)\n",
      "Requirement already satisfied: python-dateutil>=2.8.2 in c:\\users\\asus\\appdata\\local\\programs\\python\\python310\\lib\\site-packages (from pandas) (2.9.0.post0)\n",
      "Requirement already satisfied: six>=1.5 in c:\\users\\asus\\appdata\\local\\programs\\python\\python310\\lib\\site-packages (from python-dateutil>=2.8.2->pandas) (1.16.0)\n"
     ]
    },
    {
     "name": "stderr",
     "output_type": "stream",
     "text": [
      "\n",
      "[notice] A new release of pip available: 22.2.2 -> 24.3.1\n",
      "[notice] To update, run: python.exe -m pip install --upgrade pip\n"
     ]
    }
   ],
   "source": [
    "pip install pandas\n"
   ]
  },
  {
   "cell_type": "code",
   "execution_count": 12,
   "id": "3825c91c-890d-4077-a3ac-967df85e4779",
   "metadata": {},
   "outputs": [],
   "source": [
    "import pandas as pd"
   ]
  },
  {
   "cell_type": "code",
   "execution_count": 13,
   "id": "0405916f-49d6-437f-9ebb-cf3aa832813a",
   "metadata": {},
   "outputs": [
    {
     "name": "stdout",
     "output_type": "stream",
     "text": [
      "Collecting openpyxl\n",
      "  Downloading openpyxl-3.1.5-py2.py3-none-any.whl (250 kB)\n",
      "     -------------------------------------- 250.9/250.9 kB 5.3 kB/s eta 0:00:00\n",
      "Collecting et-xmlfile\n",
      "  Downloading et_xmlfile-2.0.0-py3-none-any.whl (18 kB)\n",
      "Installing collected packages: et-xmlfile, openpyxl\n",
      "Successfully installed et-xmlfile-2.0.0 openpyxl-3.1.5\n",
      "Note: you may need to restart the kernel to use updated packages.\n"
     ]
    },
    {
     "name": "stderr",
     "output_type": "stream",
     "text": [
      "\n",
      "[notice] A new release of pip available: 22.2.2 -> 24.3.1\n",
      "[notice] To update, run: python.exe -m pip install --upgrade pip\n"
     ]
    }
   ],
   "source": [
    "pip install openpyxl"
   ]
  },
  {
   "cell_type": "code",
   "execution_count": 14,
   "id": "2f739d34-1935-4c34-9433-de9172701856",
   "metadata": {},
   "outputs": [
    {
     "name": "stdout",
     "output_type": "stream",
     "text": [
      "Data dari file Excel:\n",
      "      2022-08-26 00:00:00   15.54  -  \\\n",
      "0     2022-08-26 00:00:00   15.54  -   \n",
      "1     2022-11-23 00:00:00   05.59  -   \n",
      "2     2022-11-24 00:00:00   07.14  -   \n",
      "3     2022-11-25 00:00:00   14.41  -   \n",
      "4              Terimakasi  h semu  a   \n",
      "...                   ...     ... ..   \n",
      "2275  2025-01-03 00:00:00   11.36  -   \n",
      "2276  2025-01-03 00:00:00   11.38  -   \n",
      "2277  2025-01-03 00:00:00   12.34  -   \n",
      "2278  2025-01-03 00:00:00   12.34  -   \n",
      "2279  2025-01-03 00:00:00   13.30  -   \n",
      "\n",
      "     ?€?Pak Kost Malik Majiid membuat grup \"Kost putri khadijah\"   Unnamed: 4  \\\n",
      "0                                      Anda ditambahkan                   NaN   \n",
      "1     Kode keamanan Anda dengan Setiyorini telah ber...                   NaN   \n",
      "2     Mbak Putri - Kost: Gais yang ninggal cucian wa...           baukkk bang   \n",
      "3     +62 814-7702-9512: Assalamualaikum izin Keluar...                   NaN   \n",
      "4                                                   NaN                   NaN   \n",
      "...                                                 ...                   ...   \n",
      "2275  Mbak Putri - Kost: Kosan listriknya sudah nyal...                   NaN   \n",
      "2276                             Bunga - Kost: Udah mba                   NaN   \n",
      "2277           Pak Kost Malik Majiid: Semuanya ya mba..                   NaN   \n",
      "2278  Pak Kost Malik Majiid: Sering bgt mati lampu d...                   NaN   \n",
      "2279  ?€?Pak Kost Malik Majiid mengeluarkan ~?€ÆApri...                   NaN   \n",
      "\n",
      "        Unnamed: 5 Unnamed: 6 Unnamed: 7 Unnamed: 8 Unnamed: 9 Unnamed: 10  \\\n",
      "0              NaN        NaN        NaN        NaN        NaN         NaN   \n",
      "1              NaN        NaN        NaN        NaN        NaN         NaN   \n",
      "2     etttšŸ?¹šŸ™¸        NaN        NaN        NaN        NaN         NaN   \n",
      "3              NaN        NaN        NaN        NaN        NaN         NaN   \n",
      "4              NaN        NaN        NaN        NaN        NaN         NaN   \n",
      "...            ...        ...        ...        ...        ...         ...   \n",
      "2275           NaN        NaN        NaN        NaN        NaN         NaN   \n",
      "2276           NaN        NaN        NaN        NaN        NaN         NaN   \n",
      "2277           NaN        NaN        NaN        NaN        NaN         NaN   \n",
      "2278           NaN        NaN        NaN        NaN        NaN         NaN   \n",
      "2279           NaN        NaN        NaN        NaN        NaN         NaN   \n",
      "\n",
      "     Unnamed: 11 Unnamed: 12 Unnamed: 13 Unnamed: 14 Unnamed: 15  \n",
      "0            NaN         NaN         NaN         NaN         NaN  \n",
      "1            NaN         NaN         NaN         NaN         NaN  \n",
      "2            NaN         NaN         NaN         NaN         NaN  \n",
      "3            NaN         NaN         NaN         NaN         NaN  \n",
      "4            NaN         NaN         NaN         NaN         NaN  \n",
      "...          ...         ...         ...         ...         ...  \n",
      "2275         NaN         NaN         NaN         NaN         NaN  \n",
      "2276         NaN         NaN         NaN         NaN         NaN  \n",
      "2277         NaN         NaN         NaN         NaN         NaN  \n",
      "2278         NaN         NaN         NaN         NaN         NaN  \n",
      "2279         NaN         NaN         NaN         NaN         NaN  \n",
      "\n",
      "[2280 rows x 16 columns]\n",
      "Data telah disimpan ke file CSV: data.csv\n"
     ]
    }
   ],
   "source": [
    "import pandas as pd\n",
    "\n",
    "\n",
    "# Path file Excel (contoh: data.xlsx)\n",
    "excel_file = \"data_group.xlsx\"\n",
    "\n",
    "# Membaca file Excel\n",
    "df = pd.read_excel(excel_file)\n",
    "\n",
    "# Menampilkan data untuk memastikan isi file\n",
    "print(\"Data dari file Excel:\")\n",
    "print(df)\n",
    "\n",
    "# Menyimpan ke file CSV\n",
    "csv_file = \"data.csv\"\n",
    "df.to_csv(csv_file, index=False)\n",
    "\n",
    "print(f\"Data telah disimpan ke file CSV: {csv_file}\")\n"
   ]
  },
  {
   "cell_type": "code",
   "execution_count": 16,
   "id": "1fc2133a-e558-4051-aafa-f66a89340fef",
   "metadata": {},
   "outputs": [
    {
     "name": "stdout",
     "output_type": "stream",
     "text": [
      "Data Sebelum Pembersihan:\n",
      "      2022-08-26 00:00:00   15.54  -  \\\n",
      "0     2022-08-26 00:00:00   15.54  -   \n",
      "1     2022-11-23 00:00:00   05.59  -   \n",
      "2     2022-11-24 00:00:00   07.14  -   \n",
      "3     2022-11-25 00:00:00   14.41  -   \n",
      "4              Terimakasi  h semu  a   \n",
      "...                   ...     ... ..   \n",
      "2275  2025-01-03 00:00:00   11.36  -   \n",
      "2276  2025-01-03 00:00:00   11.38  -   \n",
      "2277  2025-01-03 00:00:00   12.34  -   \n",
      "2278  2025-01-03 00:00:00   12.34  -   \n",
      "2279  2025-01-03 00:00:00   13.30  -   \n",
      "\n",
      "     ?€?Pak Kost Malik Majiid membuat grup \"Kost putri khadijah\"   Unnamed: 4  \\\n",
      "0                                      Anda ditambahkan                   NaN   \n",
      "1     Kode keamanan Anda dengan Setiyorini telah ber...                   NaN   \n",
      "2     Mbak Putri - Kost: Gais yang ninggal cucian wa...           baukkk bang   \n",
      "3     +62 814-7702-9512: Assalamualaikum izin Keluar...                   NaN   \n",
      "4                                                   NaN                   NaN   \n",
      "...                                                 ...                   ...   \n",
      "2275  Mbak Putri - Kost: Kosan listriknya sudah nyal...                   NaN   \n",
      "2276                             Bunga - Kost: Udah mba                   NaN   \n",
      "2277           Pak Kost Malik Majiid: Semuanya ya mba..                   NaN   \n",
      "2278  Pak Kost Malik Majiid: Sering bgt mati lampu d...                   NaN   \n",
      "2279  ?€?Pak Kost Malik Majiid mengeluarkan ~?€ÆApri...                   NaN   \n",
      "\n",
      "        Unnamed: 5 Unnamed: 6 Unnamed: 7 Unnamed: 8 Unnamed: 9 Unnamed: 10  \\\n",
      "0              NaN        NaN        NaN        NaN        NaN         NaN   \n",
      "1              NaN        NaN        NaN        NaN        NaN         NaN   \n",
      "2     etttšŸ?¹šŸ™¸        NaN        NaN        NaN        NaN         NaN   \n",
      "3              NaN        NaN        NaN        NaN        NaN         NaN   \n",
      "4              NaN        NaN        NaN        NaN        NaN         NaN   \n",
      "...            ...        ...        ...        ...        ...         ...   \n",
      "2275           NaN        NaN        NaN        NaN        NaN         NaN   \n",
      "2276           NaN        NaN        NaN        NaN        NaN         NaN   \n",
      "2277           NaN        NaN        NaN        NaN        NaN         NaN   \n",
      "2278           NaN        NaN        NaN        NaN        NaN         NaN   \n",
      "2279           NaN        NaN        NaN        NaN        NaN         NaN   \n",
      "\n",
      "     Unnamed: 11 Unnamed: 12 Unnamed: 13 Unnamed: 14 Unnamed: 15  \n",
      "0            NaN         NaN         NaN         NaN         NaN  \n",
      "1            NaN         NaN         NaN         NaN         NaN  \n",
      "2            NaN         NaN         NaN         NaN         NaN  \n",
      "3            NaN         NaN         NaN         NaN         NaN  \n",
      "4            NaN         NaN         NaN         NaN         NaN  \n",
      "...          ...         ...         ...         ...         ...  \n",
      "2275         NaN         NaN         NaN         NaN         NaN  \n",
      "2276         NaN         NaN         NaN         NaN         NaN  \n",
      "2277         NaN         NaN         NaN         NaN         NaN  \n",
      "2278         NaN         NaN         NaN         NaN         NaN  \n",
      "2279         NaN         NaN         NaN         NaN         NaN  \n",
      "\n",
      "[2280 rows x 16 columns]\n",
      "\n",
      "Data Setelah Pembersihan:\n",
      "      2022-08-26 00:00:00   15.54  -  \\\n",
      "0     2022-08-26 00:00:00   15.54  -   \n",
      "1     2022-11-23 00:00:00   05.59  -   \n",
      "2     2022-11-24 00:00:00   07.14  -   \n",
      "3     2022-11-25 00:00:00   14.41  -   \n",
      "4              Terimakasi  h semu  a   \n",
      "...                   ...     ... ..   \n",
      "2275  2025-01-03 00:00:00   11.36  -   \n",
      "2276  2025-01-03 00:00:00   11.38  -   \n",
      "2277  2025-01-03 00:00:00   12.34  -   \n",
      "2278  2025-01-03 00:00:00   12.34  -   \n",
      "2279  2025-01-03 00:00:00   13.30  -   \n",
      "\n",
      "     ?€?Pak Kost Malik Majiid membuat grup \"Kost putri khadijah\"   Unnamed: 4  \\\n",
      "0                                      Anda ditambahkan                         \n",
      "1     Kode keamanan Anda dengan Setiyorini telah ber...                         \n",
      "2     Mbak Putri - Kost: Gais yang ninggal cucian wa...           baukkk bang   \n",
      "3     62 814-7702-9512: Assalamualaikum izin Keluar ...                         \n",
      "4                                                                               \n",
      "...                                                 ...                   ...   \n",
      "2275  Mbak Putri - Kost: Kosan listriknya sudah nyal...                         \n",
      "2276                             Bunga - Kost: Udah mba                         \n",
      "2277           Pak Kost Malik Majiid: Semuanya ya mba..                         \n",
      "2278  Pak Kost Malik Majiid: Sering bgt mati lampu d...                         \n",
      "2279  ??Pak Kost Malik Majiid mengeluarkan ?Aprilian...                         \n",
      "\n",
      "     Unnamed: 5 Unnamed: 6 Unnamed: 7 Unnamed: 8 Unnamed: 9 Unnamed: 10  \\\n",
      "0                                                                         \n",
      "1                                                                         \n",
      "2         ettt?                                                           \n",
      "3                                                                         \n",
      "4                                                                         \n",
      "...         ...        ...        ...        ...        ...         ...   \n",
      "2275                                                                      \n",
      "2276                                                                      \n",
      "2277                                                                      \n",
      "2278                                                                      \n",
      "2279                                                                      \n",
      "\n",
      "     Unnamed: 11 Unnamed: 12 Unnamed: 13 Unnamed: 14 Unnamed: 15  \n",
      "0                                                                 \n",
      "1                                                                 \n",
      "2                                                                 \n",
      "3                                                                 \n",
      "4                                                                 \n",
      "...          ...         ...         ...         ...         ...  \n",
      "2275                                                              \n",
      "2276                                                              \n",
      "2277                                                              \n",
      "2278                                                              \n",
      "2279                                                              \n",
      "\n",
      "[2280 rows x 16 columns]\n",
      "\n",
      "Data bersih telah disimpan ke 'cleaned_data.csv'.\n"
     ]
    },
    {
     "name": "stderr",
     "output_type": "stream",
     "text": [
      "C:\\Users\\ASUS\\AppData\\Local\\Temp\\ipykernel_5040\\1333489787.py:25: FutureWarning: DataFrame.applymap has been deprecated. Use DataFrame.map instead.\n",
      "  df_cleaned = df.applymap(clean_data)\n"
     ]
    }
   ],
   "source": [
    "import pandas as pd\n",
    "import re\n",
    "\n",
    "# Fungsi untuk membersihkan data\n",
    "def clean_data(value):\n",
    "    \"\"\"\n",
    "    Membersihkan data dengan hanya mempertahankan huruf, angka,\n",
    "    dan tanda baca-tulis umum.\n",
    "    \"\"\"\n",
    "    # Jika data kosong (NaN), kembalikan string kosong\n",
    "    if pd.isnull(value):\n",
    "        return \"\"\n",
    "    # RegEx untuk membersihkan data\n",
    "    return re.sub(r\"[^a-zA-Z0-9.,!?;:'\\\"()\\[\\]{}&% \\-]\", \"\", str(value))\n",
    "\n",
    "# Membaca file CSV\n",
    "file_path = \"data.csv\"\n",
    "df = pd.read_csv(file_path)\n",
    "\n",
    "# Menampilkan data sebelum pembersihan\n",
    "print(\"Data Sebelum Pembersihan:\")\n",
    "print(df)\n",
    "\n",
    "# Membersihkan seluruh data dalam DataFrame\n",
    "df_cleaned = df.applymap(clean_data)\n",
    "\n",
    "# Menampilkan data setelah pembersihan\n",
    "print(\"\\nData Setelah Pembersihan:\")\n",
    "print(df_cleaned)\n",
    "\n",
    "# Menyimpan data bersih ke file baru\n",
    "output_file = \"cleaned_data.csv\"\n",
    "df_cleaned.to_csv(output_file, index=False)\n",
    "print(f\"\\nData bersih telah disimpan ke '{output_file}'.\")\n"
   ]
  },
  {
   "cell_type": "code",
   "execution_count": 17,
   "id": "135abbdd-f8fb-4a57-a5f2-282e789b4563",
   "metadata": {},
   "outputs": [
    {
     "name": "stdout",
     "output_type": "stream",
     "text": [
      "Data Sebelum Pembersihan:\n",
      "      2022-08-26 00:00:00   15.54  -  \\\n",
      "0     2022-08-26 00:00:00   15.54  -   \n",
      "1     2022-11-23 00:00:00   05.59  -   \n",
      "2     2022-11-24 00:00:00   07.14  -   \n",
      "3     2022-11-25 00:00:00   14.41  -   \n",
      "4              Terimakasi  h semu  a   \n",
      "...                   ...     ... ..   \n",
      "2275  2025-01-03 00:00:00   11.36  -   \n",
      "2276  2025-01-03 00:00:00   11.38  -   \n",
      "2277  2025-01-03 00:00:00   12.34  -   \n",
      "2278  2025-01-03 00:00:00   12.34  -   \n",
      "2279  2025-01-03 00:00:00   13.30  -   \n",
      "\n",
      "     ?€?Pak Kost Malik Majiid membuat grup \"Kost putri khadijah\"   Unnamed: 4  \\\n",
      "0                                      Anda ditambahkan                   NaN   \n",
      "1     Kode keamanan Anda dengan Setiyorini telah ber...                   NaN   \n",
      "2     Mbak Putri - Kost: Gais yang ninggal cucian wa...           baukkk bang   \n",
      "3     62 814-7702-9512: Assalamualaikum izin Keluar ...                   NaN   \n",
      "4                                                   NaN                   NaN   \n",
      "...                                                 ...                   ...   \n",
      "2275  Mbak Putri - Kost: Kosan listriknya sudah nyal...                   NaN   \n",
      "2276                             Bunga - Kost: Udah mba                   NaN   \n",
      "2277           Pak Kost Malik Majiid: Semuanya ya mba..                   NaN   \n",
      "2278  Pak Kost Malik Majiid: Sering bgt mati lampu d...                   NaN   \n",
      "2279  ??Pak Kost Malik Majiid mengeluarkan ?Aprilian...                   NaN   \n",
      "\n",
      "     Unnamed: 5 Unnamed: 6 Unnamed: 7 Unnamed: 8 Unnamed: 9 Unnamed: 10  \\\n",
      "0           NaN        NaN        NaN        NaN        NaN         NaN   \n",
      "1           NaN        NaN        NaN        NaN        NaN         NaN   \n",
      "2         ettt?        NaN        NaN        NaN        NaN         NaN   \n",
      "3           NaN        NaN        NaN        NaN        NaN         NaN   \n",
      "4           NaN        NaN        NaN        NaN        NaN         NaN   \n",
      "...         ...        ...        ...        ...        ...         ...   \n",
      "2275        NaN        NaN        NaN        NaN        NaN         NaN   \n",
      "2276        NaN        NaN        NaN        NaN        NaN         NaN   \n",
      "2277        NaN        NaN        NaN        NaN        NaN         NaN   \n",
      "2278        NaN        NaN        NaN        NaN        NaN         NaN   \n",
      "2279        NaN        NaN        NaN        NaN        NaN         NaN   \n",
      "\n",
      "     Unnamed: 11 Unnamed: 12 Unnamed: 13 Unnamed: 14 Unnamed: 15  \n",
      "0            NaN         NaN         NaN         NaN         NaN  \n",
      "1            NaN         NaN         NaN         NaN         NaN  \n",
      "2            NaN         NaN         NaN         NaN         NaN  \n",
      "3            NaN         NaN         NaN         NaN         NaN  \n",
      "4            NaN         NaN         NaN         NaN         NaN  \n",
      "...          ...         ...         ...         ...         ...  \n",
      "2275         NaN         NaN         NaN         NaN         NaN  \n",
      "2276         NaN         NaN         NaN         NaN         NaN  \n",
      "2277         NaN         NaN         NaN         NaN         NaN  \n",
      "2278         NaN         NaN         NaN         NaN         NaN  \n",
      "2279         NaN         NaN         NaN         NaN         NaN  \n",
      "\n",
      "[2280 rows x 16 columns]\n"
     ]
    }
   ],
   "source": [
    "# Membaca file CSV\n",
    "file_path = \"cleaned_data.csv\"\n",
    "df = pd.read_csv(file_path)\n",
    "\n",
    "# Menampilkan data sebelum pembersihan\n",
    "print(\"Data Sebelum Pembersihan:\")\n",
    "print(df)"
   ]
  },
  {
   "cell_type": "code",
   "execution_count": 18,
   "id": "9bd7ce37-18f9-468a-9121-f0f43f2f6b80",
   "metadata": {},
   "outputs": [
    {
     "name": "stdout",
     "output_type": "stream",
     "text": [
      "\n",
      "Data bersih telah disimpan ke 'cleaned_data.txt'.\n"
     ]
    }
   ],
   "source": [
    "# Menyimpan data bersih ke file baru\n",
    "output_file = \"cleaned_data.txt\"\n",
    "df_cleaned.to_csv(output_file, index=False)\n",
    "print(f\"\\nData bersih telah disimpan ke '{output_file}'.\")"
   ]
  },
  {
   "cell_type": "code",
   "execution_count": 32,
   "id": "0b47a95a-d543-43db-b229-bdc137d1517e",
   "metadata": {},
   "outputs": [
    {
     "name": "stdout",
     "output_type": "stream",
     "text": [
      "Data Sebelum Pembersihan:\n",
      "      2022-08-26 00:00:00   15.54  -  \\\n",
      "0     2022-08-26 00:00:00   15.54  -   \n",
      "1     2022-11-23 00:00:00   05.59  -   \n",
      "2     2022-11-24 00:00:00   07.14  -   \n",
      "3     2022-11-25 00:00:00   14.41  -   \n",
      "4              Terimakasi  h semu  a   \n",
      "...                   ...     ... ..   \n",
      "2275  2025-01-03 00:00:00   11.36  -   \n",
      "2276  2025-01-03 00:00:00   11.38  -   \n",
      "2277  2025-01-03 00:00:00   12.34  -   \n",
      "2278  2025-01-03 00:00:00   12.34  -   \n",
      "2279  2025-01-03 00:00:00   13.30  -   \n",
      "\n",
      "     ?€?Pak Kost Malik Majiid membuat grup \"Kost putri khadijah\"   Unnamed: 4  \\\n",
      "0                                      Anda ditambahkan                   NaN   \n",
      "1     Kode keamanan Anda dengan Setiyorini telah ber...                   NaN   \n",
      "2     Mbak Putri - Kost: Gais yang ninggal cucian wa...           baukkk bang   \n",
      "3     62 814-7702-9512: Assalamualaikum izin Keluar ...                   NaN   \n",
      "4                                                   NaN                   NaN   \n",
      "...                                                 ...                   ...   \n",
      "2275  Mbak Putri - Kost: Kosan listriknya sudah nyal...                   NaN   \n",
      "2276                             Bunga - Kost: Udah mba                   NaN   \n",
      "2277           Pak Kost Malik Majiid: Semuanya ya mba..                   NaN   \n",
      "2278  Pak Kost Malik Majiid: Sering bgt mati lampu d...                   NaN   \n",
      "2279  ??Pak Kost Malik Majiid mengeluarkan ?Aprilian...                   NaN   \n",
      "\n",
      "     Unnamed: 5 Unnamed: 6 Unnamed: 7 Unnamed: 8 Unnamed: 9 Unnamed: 10  \\\n",
      "0           NaN        NaN        NaN        NaN        NaN         NaN   \n",
      "1           NaN        NaN        NaN        NaN        NaN         NaN   \n",
      "2         ettt?        NaN        NaN        NaN        NaN         NaN   \n",
      "3           NaN        NaN        NaN        NaN        NaN         NaN   \n",
      "4           NaN        NaN        NaN        NaN        NaN         NaN   \n",
      "...         ...        ...        ...        ...        ...         ...   \n",
      "2275        NaN        NaN        NaN        NaN        NaN         NaN   \n",
      "2276        NaN        NaN        NaN        NaN        NaN         NaN   \n",
      "2277        NaN        NaN        NaN        NaN        NaN         NaN   \n",
      "2278        NaN        NaN        NaN        NaN        NaN         NaN   \n",
      "2279        NaN        NaN        NaN        NaN        NaN         NaN   \n",
      "\n",
      "     Unnamed: 11 Unnamed: 12 Unnamed: 13 Unnamed: 14 Unnamed: 15  \n",
      "0            NaN         NaN         NaN         NaN         NaN  \n",
      "1            NaN         NaN         NaN         NaN         NaN  \n",
      "2            NaN         NaN         NaN         NaN         NaN  \n",
      "3            NaN         NaN         NaN         NaN         NaN  \n",
      "4            NaN         NaN         NaN         NaN         NaN  \n",
      "...          ...         ...         ...         ...         ...  \n",
      "2275         NaN         NaN         NaN         NaN         NaN  \n",
      "2276         NaN         NaN         NaN         NaN         NaN  \n",
      "2277         NaN         NaN         NaN         NaN         NaN  \n",
      "2278         NaN         NaN         NaN         NaN         NaN  \n",
      "2279         NaN         NaN         NaN         NaN         NaN  \n",
      "\n",
      "[2280 rows x 16 columns]\n"
     ]
    }
   ],
   "source": [
    "# Membaca file CSV\n",
    "x = \"data_group.txt\"\n",
    "df = pd.read_csv(x)\n",
    "\n",
    "# Menampilkan data sebelum pembersihan\n",
    "print(\"Data Sebelum Pembersihan:\")\n",
    "print(df)"
   ]
  },
  {
   "cell_type": "code",
   "execution_count": 33,
   "id": "2f3642dc-8546-41cd-bb8b-0673f0b9a756",
   "metadata": {},
   "outputs": [],
   "source": [
    "import re\n",
    "from collections import defaultdict"
   ]
  },
  {
   "cell_type": "code",
   "execution_count": 34,
   "id": "3c2edde5-289e-4ccd-bf52-062a103b3e9c",
   "metadata": {},
   "outputs": [],
   "source": [
    "with open(x, 'r', encoding='utf-8') as file:\n",
    "    lines = file.readlines()"
   ]
  },
  {
   "cell_type": "code",
   "execution_count": 35,
   "id": "891a7557-3b72-4523-b1b0-e7a5c859df9d",
   "metadata": {},
   "outputs": [],
   "source": [
    "# Proses komentar berdasarkan grup\n",
    "group_data = defaultdict(list)\n",
    "current_group = None"
   ]
  },
  {
   "cell_type": "code",
   "execution_count": 36,
   "id": "7c4f035c-3fb6-46f4-a282-2f989d4a83ae",
   "metadata": {},
   "outputs": [],
   "source": [
    "for line in lines:\n",
    "    if \"Kost putri khadijah\" in line:\n",
    "        current_group = \"MENTORING FKI\"\n",
    "    elif \"GROUP NAME XYZ\" in line:  # Tambahkan nama grup lainnya\n",
    "        current_group = \"GROUP NAME XYZ\"\n",
    "\n",
    "    if current_group:\n",
    "        group_data[current_group].append(line)\n",
    "     "
   ]
  },
  {
   "cell_type": "code",
   "execution_count": 37,
   "id": "619f6d79-c53a-4d15-a0e6-949f1a155015",
   "metadata": {},
   "outputs": [],
   "source": [
    "# Pilih grup dengan jumlah komentar terbanyak\n",
    "selected_group = max(group_data, key=lambda k: len(group_data[k]))"
   ]
  },
  {
   "cell_type": "code",
   "execution_count": 38,
   "id": "43b46e98-c49e-44d4-aed4-2e1516f73277",
   "metadata": {},
   "outputs": [],
   "source": [
    "# Simpan data ke file teks\n",
    "with open('data_group.txt', 'w', encoding='utf-8') as file:\n",
    "    file.writelines(group_data[selected_group])"
   ]
  },
  {
   "cell_type": "code",
   "execution_count": 39,
   "id": "db709131-74de-49a8-8f16-27b43aa3c070",
   "metadata": {},
   "outputs": [],
   "source": [
    "import tarfile\n",
    "\n",
    "with tarfile.open(\"cleaned_data.tar\", \"w\") as tar:\n",
    "    tar.add(\"cleaned_data.csv\")\n"
   ]
  },
  {
   "cell_type": "code",
   "execution_count": 40,
   "id": "3bee1f36-85a7-443b-982e-e2b4c7478575",
   "metadata": {},
   "outputs": [],
   "source": [
    "cleaned_lines = []\n",
    "for line in lines:\n",
    "    cleaned_line = re.sub(r'[^a-zA-Z0-9\\s.,!?]', '', line)\n",
    "    cleaned_lines.append(cleaned_line)\n",
    "\n",
    "# Simpan versi bersih\n",
    "with open('data_group_cleaned.txt', 'w', encoding='utf-8') as file:\n",
    "    file.writelines(cleaned_lines)"
   ]
  },
  {
   "cell_type": "code",
   "execution_count": 41,
   "id": "2ec3f8c7-ee7f-4c15-be48-d2242c954e74",
   "metadata": {},
   "outputs": [
    {
     "name": "stdout",
     "output_type": "stream",
     "text": [
      "Cluster 3\n",
      "Cluster 0: pak, kost, 000000\n",
      "Cluster 1: pak, kost, 000000\n",
      "Cluster 2: pak, kost, 000000\n",
      "Cluster 4\n",
      "Cluster 0: putri, 62, 000000\n",
      "Cluster 1: putri, 62, 000000\n",
      "Cluster 2: putri, 62, 000000\n",
      "Cluster 3: putri, 62, 000000\n",
      "Cluster 5\n",
      "Cluster 0: putri, 62, 000000\n",
      "Cluster 1: putri, 62, 000000\n",
      "Cluster 2: putri, 62, 000000\n",
      "Cluster 3: putri, 62, 000000\n",
      "Cluster 4: putri, 62, 000000\n"
     ]
    }
   ],
   "source": [
    "from sklearn.feature_extraction.text import TfidfVectorizer\n",
    "from sklearn.cluster import KMeans\n",
    "from sklearn.metrics import silhouette_score\n",
    "\n",
    "# Membaca data\n",
    "with open('data_group_cleaned.txt', 'r', encoding='utf-8') as file:\n",
    "    data = file.readlines()\n",
    "\n",
    "# TF-IDF\n",
    "vectorizer = TfidfVectorizer(stop_words='english')\n",
    "X = vectorizer.fit_transform(data)\n",
    "\n",
    "# KMeans Clustering\n",
    "for n_clusters in [3, 4, 5]:\n",
    "    kmeans = KMeans(n_clusters=n_clusters, random_state=42)\n",
    "    labels = kmeans.fit_predict(X)\n",
    "\n",
    "    print(f\"Cluster {n_clusters}\")\n",
    "    terms = vectorizer.get_feature_names_out()\n",
    "    for i in range(n_clusters):\n",
    "        top_terms = [terms[ind] for ind in kmeans.cluster_centers_.argsort()[0][-3:]]\n",
    "        print(f\"Cluster {i}: {', '.join(top_terms)}\")"
   ]
  },
  {
   "cell_type": "code",
   "execution_count": 42,
   "id": "2496850a-2428-4b8f-b071-a6e6a415a623",
   "metadata": {},
   "outputs": [
    {
     "name": "stdout",
     "output_type": "stream",
     "text": [
      "Laporan HTML tersimpan di: laporan.html\n"
     ]
    }
   ],
   "source": [
    "html_content = f\"\"\"\n",
    "\n",
    "\n",
    "\n",
    "    \n",
    "    \n",
    "    Laporan Clustering\n",
    "    \n",
    "\n",
    "\n",
    "    Laporan Hasil Clustering\n",
    "    Data diproses dan dianalisis dengan metode TF-IDF dan algoritma KMeans untuk membuat 3, 4, dan 5 klaster.\n",
    "    Analisis\n",
    "    \n",
    "        Hasil Clustering (3 Klaster)\n",
    "        ... Analisis dan kata teratas ...\n",
    "        Hasil Clustering (4 Klaster)\n",
    "        ... Analisis dan kata teratas ...\n",
    "        Hasil Clustering (5 Klaster)\n",
    "        ... Analisis dan kata teratas ...\n",
    "    \n",
    "\n",
    "\n",
    "\"\"\"\n",
    "\n",
    "report_file = \"laporan.html\"\n",
    "with open(report_file, 'w', encoding='utf-8') as file:\n",
    "    file.write(html_content)\n",
    "\n",
    "print(f\"Laporan HTML tersimpan di: {report_file}\")\n"
   ]
  },
  {
   "cell_type": "code",
   "execution_count": null,
   "id": "eb0ba293-04e7-480e-abac-c7f9abcc58be",
   "metadata": {},
   "outputs": [],
   "source": []
  }
 ],
 "metadata": {
  "kernelspec": {
   "display_name": "Python 3 (ipykernel)",
   "language": "python",
   "name": "python3"
  },
  "language_info": {
   "codemirror_mode": {
    "name": "ipython",
    "version": 3
   },
   "file_extension": ".py",
   "mimetype": "text/x-python",
   "name": "python",
   "nbconvert_exporter": "python",
   "pygments_lexer": "ipython3",
   "version": "3.10.7"
  }
 },
 "nbformat": 4,
 "nbformat_minor": 5
}
